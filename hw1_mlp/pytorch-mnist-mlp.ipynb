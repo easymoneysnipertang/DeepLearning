{
 "cells": [
  {
   "cell_type": "markdown",
   "metadata": {
    "pycharm": {
     "name": "#%% md\n"
    }
   },
   "source": [
    "# MNIST handwritten digits classification with MLPs\n",
    "\n",
    "In this notebook, we'll train a multi-layer perceptron model to classify MNIST digits using **PyTorch**. \n",
    "\n",
    "First, the needed imports. "
   ]
  },
  {
   "cell_type": "code",
   "execution_count": 1,
   "metadata": {
    "pycharm": {
     "is_executing": true,
     "name": "#%%\n"
    }
   },
   "outputs": [
    {
     "name": "stdout",
     "output_type": "stream",
     "text": [
      "False\n",
      "0\n",
      "None\n"
     ]
    }
   ],
   "source": [
    "import torch # 如果pytorch安装成功即可导入\n",
    "print(torch.cuda.is_available()) # 查看CUDA是否可用\n",
    "print(torch.cuda.device_count()) # 查看可用的CUDA数量\n",
    "print(torch.version.cuda) # 查看CUDA的版本号\n"
   ]
  },
  {
   "cell_type": "code",
   "execution_count": 2,
   "metadata": {
    "pycharm": {
     "name": "#%%\n"
    },
    "scrolled": true
   },
   "outputs": [
    {
     "name": "stdout",
     "output_type": "stream",
     "text": [
      "Using PyTorch version: 1.12.0+cpu  Device: cpu\n"
     ]
    }
   ],
   "source": [
    "%matplotlib inline\n",
    "\n",
    "import torch\n",
    "import torch.nn as nn\n",
    "import torch.nn.functional as F\n",
    "from torchvision import datasets, transforms\n",
    "\n",
    "import numpy as np\n",
    "import matplotlib.pyplot as plt\n",
    "\n",
    "if torch.cuda.is_available():\n",
    "    device = torch.device('cuda')\n",
    "else:\n",
    "    device = torch.device('cpu')\n",
    "    \n",
    "# 查看PyTorch版本和设备\n",
    "print('Using PyTorch version:', torch.__version__, ' Device:', device)"
   ]
  },
  {
   "cell_type": "markdown",
   "metadata": {
    "pycharm": {
     "name": "#%% md\n"
    }
   },
   "source": [
    "## Data\n",
    "\n",
    "Next we'll load the MNIST data.  First time we may have to download the data, which can take a while.\n",
    "\n",
    "Note that we are here using the MNIST test data for *validation*, instead of for testing the final model."
   ]
  },
  {
   "cell_type": "code",
   "execution_count": 3,
   "metadata": {
    "pycharm": {
     "name": "#%%\n"
    }
   },
   "outputs": [
    {
     "name": "stdout",
     "output_type": "stream",
     "text": [
      "Downloading http://yann.lecun.com/exdb/mnist/train-images-idx3-ubyte.gz\n",
      "Downloading http://yann.lecun.com/exdb/mnist/train-images-idx3-ubyte.gz to ./data\\MNIST\\raw\\train-images-idx3-ubyte.gz\n"
     ]
    },
    {
     "name": "stderr",
     "output_type": "stream",
     "text": [
      "100.0%\n"
     ]
    },
    {
     "name": "stdout",
     "output_type": "stream",
     "text": [
      "Extracting ./data\\MNIST\\raw\\train-images-idx3-ubyte.gz to ./data\\MNIST\\raw\n",
      "\n",
      "Downloading http://yann.lecun.com/exdb/mnist/train-labels-idx1-ubyte.gz\n",
      "Downloading http://yann.lecun.com/exdb/mnist/train-labels-idx1-ubyte.gz to ./data\\MNIST\\raw\\train-labels-idx1-ubyte.gz\n"
     ]
    },
    {
     "name": "stderr",
     "output_type": "stream",
     "text": [
      "100.0%\n"
     ]
    },
    {
     "name": "stdout",
     "output_type": "stream",
     "text": [
      "Extracting ./data\\MNIST\\raw\\train-labels-idx1-ubyte.gz to ./data\\MNIST\\raw\n",
      "\n",
      "Downloading http://yann.lecun.com/exdb/mnist/t10k-images-idx3-ubyte.gz\n",
      "Downloading http://yann.lecun.com/exdb/mnist/t10k-images-idx3-ubyte.gz to ./data\\MNIST\\raw\\t10k-images-idx3-ubyte.gz\n"
     ]
    },
    {
     "name": "stderr",
     "output_type": "stream",
     "text": [
      "100.0%\n"
     ]
    },
    {
     "name": "stdout",
     "output_type": "stream",
     "text": [
      "Extracting ./data\\MNIST\\raw\\t10k-images-idx3-ubyte.gz to ./data\\MNIST\\raw\n",
      "\n",
      "Downloading http://yann.lecun.com/exdb/mnist/t10k-labels-idx1-ubyte.gz\n",
      "Downloading http://yann.lecun.com/exdb/mnist/t10k-labels-idx1-ubyte.gz to ./data\\MNIST\\raw\\t10k-labels-idx1-ubyte.gz\n"
     ]
    },
    {
     "name": "stderr",
     "output_type": "stream",
     "text": [
      "100.0%"
     ]
    },
    {
     "name": "stdout",
     "output_type": "stream",
     "text": [
      "Extracting ./data\\MNIST\\raw\\t10k-labels-idx1-ubyte.gz to ./data\\MNIST\\raw\n",
      "\n"
     ]
    },
    {
     "name": "stderr",
     "output_type": "stream",
     "text": [
      "\n"
     ]
    }
   ],
   "source": [
    "batch_size = 32\n",
    "\n",
    "train_dataset = datasets.MNIST('./data', \n",
    "                               train=True,  # 训练集\n",
    "                               download=True,  # 如果数据不存在则下载\n",
    "                               transform=transforms.ToTensor())  # 转换为张量\n",
    "\n",
    "validation_dataset = datasets.MNIST('./data', \n",
    "                                    train=False, \n",
    "                                    transform=transforms.ToTensor())\n",
    "\n",
    "train_loader = torch.utils.data.DataLoader(dataset=train_dataset, \n",
    "                                           batch_size=batch_size,  # 每个批次的大小\n",
    "                                           shuffle=True)  # 是否打乱数据\n",
    "\n",
    "validation_loader = torch.utils.data.DataLoader(dataset=validation_dataset, \n",
    "                                                batch_size=batch_size, \n",
    "                                                shuffle=False)"
   ]
  },
  {
   "cell_type": "markdown",
   "metadata": {
    "pycharm": {
     "name": "#%% md\n"
    }
   },
   "source": [
    "The train and test data are provided via data loaders that provide iterators over the datasets. The first element of training data (`X_train`) is a 4th-order tensor of size (`batch_size`, 1, 28, 28), i.e. it consists of a batch of images of size 1x28x28 pixels. `y_train` is a vector containing the correct classes (\"0\", \"1\", ..., \"9\") for each training digit."
   ]
  },
  {
   "cell_type": "code",
   "execution_count": 4,
   "metadata": {
    "pycharm": {
     "name": "#%%\n"
    }
   },
   "outputs": [
    {
     "name": "stdout",
     "output_type": "stream",
     "text": [
      "X_train: torch.Size([32, 1, 28, 28]) type: torch.FloatTensor\n",
      "y_train: torch.Size([32]) type: torch.LongTensor\n"
     ]
    }
   ],
   "source": [
    "for (X_train, y_train) in train_loader:\n",
    "    # 四维张量：(批大小, 通道, 高, 宽)\n",
    "    print('X_train:', X_train.size(), 'type:', X_train.type())\n",
    "    print('y_train:', y_train.size(), 'type:', y_train.type())\n",
    "    break"
   ]
  },
  {
   "cell_type": "markdown",
   "metadata": {
    "pycharm": {
     "name": "#%% md\n"
    }
   },
   "source": [
    "Here are the first 10 training digits:"
   ]
  },
  {
   "cell_type": "code",
   "execution_count": 5,
   "metadata": {
    "pycharm": {
     "name": "#%%\n"
    }
   },
   "outputs": [
    {
     "data": {
      "image/png": "[encoded data removed]",
      "text/plain": [
       "<Figure size 1000x100 with 10 Axes>"
      ]
     },
     "metadata": {},
     "output_type": "display_data"
    }
   ],
   "source": [
    "pltsize=1\n",
    "plt.figure(figsize=(10*pltsize, pltsize))\n",
    "\n",
    "for i in range(10):\n",
    "    plt.subplot(1,10,i+1)\n",
    "    plt.axis('off')\n",
    "    # 将第i个图像转换为28x28的张量\n",
    "    plt.imshow(X_train[i,:,:,:].numpy().reshape(28,28), cmap=\"gray_r\")\n",
    "    plt.title('Class: '+str(y_train[i].item()))"
   ]
  },
  {
   "cell_type": "markdown",
   "metadata": {
    "pycharm": {
     "name": "#%% md\n"
    }
   },
   "source": [
    "## MLP network definition\n",
    "\n",
    "Let's define the network as a Python class.  We have to write the `__init__()` and `forward()` methods, and PyTorch will automatically generate a `backward()` method for computing the gradients for the backward pass.\n",
    "\n",
    "Finally, we define an optimizer to update the model parameters based on the computed gradients.  We select *stochastic gradient descent (with momentum)* as the optimization algorithm, and set *learning rate* to 0.01.  Note that there are [several different options](http://pytorch.org/docs/optim.html#algorithms) for the optimizer in PyTorch that we could use instead of *SGD*."
   ]
  },
  {
   "cell_type": "code",
   "execution_count": 6,
   "metadata": {
    "pycharm": {
     "name": "#%%\n"
    }
   },
   "outputs": [
    {
     "name": "stdout",
     "output_type": "stream",
     "text": [
      "Net(\n",
      "  (fc1): Linear(in_features=784, out_features=100, bias=True)\n",
      "  (fc1_drop): Dropout(p=0.2, inplace=False)\n",
      "  (fc2): Linear(in_features=100, out_features=80, bias=True)\n",
      "  (fc2_drop): Dropout(p=0.2, inplace=False)\n",
      "  (fc3): Linear(in_features=80, out_features=10, bias=True)\n",
      ")\n"
     ]
    }
   ],
   "source": [
    "class Net(nn.Module):\n",
    "    def __init__(self):\n",
    "        super(Net, self).__init__()\n",
    "        self.fc1 = nn.Linear(28*28, 100)  # weight: [28*28, 50]   bias: [50, ]\n",
    "        self.fc1_drop = nn.Dropout(0.2)\n",
    "        self.fc2 = nn.Linear(100, 80)\n",
    "        self.fc2_drop = nn.Dropout(0.2)\n",
    "        self.fc3 = nn.Linear(80, 10)\n",
    "        \n",
    "#         self.relu1 = nn.ReLU() \n",
    "\n",
    "    # 只需要实现forward函数，backward函数PyTorch会自动实现\n",
    "    def forward(self, x):\n",
    "        # Flatten the data (n, 1, 28, 28) => (n, 784)\n",
    "        x = x.view(-1, 28*28)   # [32, 28*28]\n",
    "        # hidden layer\n",
    "        x = F.relu(self.fc1(x)) \n",
    "        x = self.fc1_drop(x)\n",
    "        x = F.relu(self.fc2(x))\n",
    "        x = self.fc2_drop(x)   # [32, 10]\n",
    "        return F.log_softmax(self.fc3(x), dim=1)  # 输出层使用log_softmax激活函数\n",
    "\n",
    "model = Net().to(device)  # 将模型加载到GPU上(如果可用)\n",
    "optimizer = torch.optim.SGD(model.parameters(), lr=0.01, momentum=0.5)  # 使用随机梯度下降优化器\n",
    "criterion = nn.CrossEntropyLoss()  # 使用交叉熵损失函数\n",
    "\n",
    "print(model)"
   ]
  },
  {
   "cell_type": "markdown",
   "metadata": {
    "pycharm": {
     "name": "#%% md\n"
    }
   },
   "source": [
    "## Learning\n",
    "\n",
    "Let's now define functions to `train()` and `validate()` the model. "
   ]
  },
  {
   "cell_type": "code",
   "execution_count": 7,
   "metadata": {
    "pycharm": {
     "name": "#%%\n"
    }
   },
   "outputs": [],
   "source": [
    "def train(epoch, log_interval=200):\n",
    "    # Set model to training mode\n",
    "    model.train()\n",
    "    \n",
    "    # Loop over each batch from the training set\n",
    "    for batch_idx, (data, target) in enumerate(train_loader):  # 从训练集中获取数据(图像和标签)\n",
    "        # Copy data to GPU if needed\n",
    "        data = data.to(device)  # x\n",
    "        target = target.to(device)  # y\n",
    "\n",
    "        # Zero gradient buffers\n",
    "        optimizer.zero_grad()  # 梯度清零\n",
    "        \n",
    "        # Pass data through the network\n",
    "        output = model(data)  # 前向传播\n",
    "\n",
    "        # Calculate loss\n",
    "        loss = criterion(output, target)  # 计算损失\n",
    "\n",
    "        # Backpropagate\n",
    "        loss.backward()  # 反向传播\n",
    "        \n",
    "        # Update weights\n",
    "        optimizer.step()    #  w - alpha * dL / dw\n",
    "        \n",
    "        if batch_idx % log_interval == 0:  # 每200个批次打印一次\n",
    "            print('Train Epoch: {} [{}/{} ({:.0f}%)]\\tLoss: {:.6f}'.format(\n",
    "                epoch, batch_idx * len(data), len(train_loader.dataset),\n",
    "                100. * batch_idx / len(train_loader), loss.data.item()))"
   ]
  },
  {
   "cell_type": "code",
   "execution_count": 8,
   "metadata": {
    "pycharm": {
     "name": "#%%\n"
    }
   },
   "outputs": [],
   "source": [
    "def validate(loss_vector, accuracy_vector):\n",
    "    model.eval()  # 设置模型为评估模式\n",
    "    val_loss, correct = 0, 0\n",
    "    for data, target in validation_loader:  # 从验证集中获取数据\n",
    "        data = data.to(device)\n",
    "        target = target.to(device)\n",
    "        output = model(data)\n",
    "        val_loss += criterion(output, target).data.item()  # sum up batch loss\n",
    "        pred = output.data.max(1)[1] # get the index of the max log-probability\n",
    "        correct += pred.eq(target.data).cpu().sum()  # 对预测正确的数量进行累加\n",
    "\n",
    "    val_loss /= len(validation_loader)  # 计算平均损失\n",
    "    loss_vector.append(val_loss)  # 将损失添加到列表中\n",
    "\n",
    "    accuracy = 100. * correct.to(torch.float32) / len(validation_loader.dataset)\n",
    "    accuracy_vector.append(accuracy)\n",
    "    \n",
    "    print('\\nValidation set: Average loss: {:.4f}, Accuracy: {}/{} ({:.0f}%)\\n'.format(\n",
    "        val_loss, correct, len(validation_loader.dataset), accuracy))\n"
   ]
  },
  {
   "cell_type": "markdown",
   "metadata": {
    "pycharm": {
     "name": "#%% md\n"
    }
   },
   "source": [
    "Now we are ready to train our model using the `train()` function.  An *epoch* means one pass through the whole training data. After each epoch, we evaluate the model using `validate()`. "
   ]
  },
  {
   "cell_type": "code",
   "execution_count": 9,
   "metadata": {
    "pycharm": {
     "name": "#%%\n"
    }
   },
   "outputs": [
    {
     "name": "stdout",
     "output_type": "stream",
     "text": [
      "Train Epoch: 1 [0/60000 (0%)]\tLoss: 2.292764\n",
      "Train Epoch: 1 [6400/60000 (11%)]\tLoss: 2.172402\n",
      "Train Epoch: 1 [12800/60000 (21%)]\tLoss: 1.601492\n",
      "Train Epoch: 1 [19200/60000 (32%)]\tLoss: 1.032066\n",
      "Train Epoch: 1 [25600/60000 (43%)]\tLoss: 0.575964\n",
      "Train Epoch: 1 [32000/60000 (53%)]\tLoss: 0.404303\n",
      "Train Epoch: 1 [38400/60000 (64%)]\tLoss: 0.340171\n",
      "Train Epoch: 1 [44800/60000 (75%)]\tLoss: 0.434956\n",
      "Train Epoch: 1 [51200/60000 (85%)]\tLoss: 0.798716\n",
      "Train Epoch: 1 [57600/60000 (96%)]\tLoss: 0.339274\n",
      "\n",
      "Validation set: Average loss: 0.3386, Accuracy: 9040/10000 (90%)\n",
      "\n",
      "Train Epoch: 2 [0/60000 (0%)]\tLoss: 0.491485\n",
      "Train Epoch: 2 [6400/60000 (11%)]\tLoss: 0.381793\n",
      "Train Epoch: 2 [12800/60000 (21%)]\tLoss: 0.671702\n",
      "Train Epoch: 2 [19200/60000 (32%)]\tLoss: 0.161101\n",
      "Train Epoch: 2 [25600/60000 (43%)]\tLoss: 0.263376\n",
      "Train Epoch: 2 [32000/60000 (53%)]\tLoss: 0.233566\n",
      "Train Epoch: 2 [38400/60000 (64%)]\tLoss: 0.446197\n",
      "Train Epoch: 2 [44800/60000 (75%)]\tLoss: 0.213158\n",
      "Train Epoch: 2 [51200/60000 (85%)]\tLoss: 0.303431\n",
      "Train Epoch: 2 [57600/60000 (96%)]\tLoss: 0.260712\n",
      "\n",
      "Validation set: Average loss: 0.2369, Accuracy: 9297/10000 (93%)\n",
      "\n",
      "Train Epoch: 3 [0/60000 (0%)]\tLoss: 0.540915\n",
      "Train Epoch: 3 [6400/60000 (11%)]\tLoss: 0.190663\n",
      "Train Epoch: 3 [12800/60000 (21%)]\tLoss: 0.391793\n",
      "Train Epoch: 3 [19200/60000 (32%)]\tLoss: 0.447035\n",
      "Train Epoch: 3 [25600/60000 (43%)]\tLoss: 0.174255\n",
      "Train Epoch: 3 [32000/60000 (53%)]\tLoss: 0.186297\n",
      "Train Epoch: 3 [38400/60000 (64%)]\tLoss: 0.219543\n",
      "Train Epoch: 3 [44800/60000 (75%)]\tLoss: 0.194179\n",
      "Train Epoch: 3 [51200/60000 (85%)]\tLoss: 0.119638\n",
      "Train Epoch: 3 [57600/60000 (96%)]\tLoss: 0.300504\n",
      "\n",
      "Validation set: Average loss: 0.1885, Accuracy: 9434/10000 (94%)\n",
      "\n",
      "Train Epoch: 4 [0/60000 (0%)]\tLoss: 0.241852\n",
      "Train Epoch: 4 [6400/60000 (11%)]\tLoss: 0.199952\n",
      "Train Epoch: 4 [12800/60000 (21%)]\tLoss: 0.382692\n",
      "Train Epoch: 4 [19200/60000 (32%)]\tLoss: 0.366924\n",
      "Train Epoch: 4 [25600/60000 (43%)]\tLoss: 0.544428\n",
      "Train Epoch: 4 [32000/60000 (53%)]\tLoss: 0.196096\n",
      "Train Epoch: 4 [38400/60000 (64%)]\tLoss: 0.117123\n",
      "Train Epoch: 4 [44800/60000 (75%)]\tLoss: 0.076577\n",
      "Train Epoch: 4 [51200/60000 (85%)]\tLoss: 0.091556\n",
      "Train Epoch: 4 [57600/60000 (96%)]\tLoss: 0.132672\n",
      "\n",
      "Validation set: Average loss: 0.1582, Accuracy: 9521/10000 (95%)\n",
      "\n",
      "Train Epoch: 5 [0/60000 (0%)]\tLoss: 0.112091\n",
      "Train Epoch: 5 [6400/60000 (11%)]\tLoss: 0.102058\n",
      "Train Epoch: 5 [12800/60000 (21%)]\tLoss: 0.150062\n",
      "Train Epoch: 5 [19200/60000 (32%)]\tLoss: 0.360680\n",
      "Train Epoch: 5 [25600/60000 (43%)]\tLoss: 0.072867\n",
      "Train Epoch: 5 [32000/60000 (53%)]\tLoss: 0.320731\n",
      "Train Epoch: 5 [38400/60000 (64%)]\tLoss: 0.318634\n",
      "Train Epoch: 5 [44800/60000 (75%)]\tLoss: 0.285368\n",
      "Train Epoch: 5 [51200/60000 (85%)]\tLoss: 0.044973\n",
      "Train Epoch: 5 [57600/60000 (96%)]\tLoss: 0.122395\n",
      "\n",
      "Validation set: Average loss: 0.1415, Accuracy: 9567/10000 (96%)\n",
      "\n",
      "Train Epoch: 6 [0/60000 (0%)]\tLoss: 0.144059\n",
      "Train Epoch: 6 [6400/60000 (11%)]\tLoss: 0.054447\n",
      "Train Epoch: 6 [12800/60000 (21%)]\tLoss: 0.055122\n",
      "Train Epoch: 6 [19200/60000 (32%)]\tLoss: 0.077136\n",
      "Train Epoch: 6 [25600/60000 (43%)]\tLoss: 0.091475\n",
      "Train Epoch: 6 [32000/60000 (53%)]\tLoss: 0.093134\n",
      "Train Epoch: 6 [38400/60000 (64%)]\tLoss: 0.181372\n",
      "Train Epoch: 6 [44800/60000 (75%)]\tLoss: 0.068072\n",
      "Train Epoch: 6 [51200/60000 (85%)]\tLoss: 0.298567\n",
      "Train Epoch: 6 [57600/60000 (96%)]\tLoss: 0.163059\n",
      "\n",
      "Validation set: Average loss: 0.1275, Accuracy: 9613/10000 (96%)\n",
      "\n",
      "Train Epoch: 7 [0/60000 (0%)]\tLoss: 0.178223\n",
      "Train Epoch: 7 [6400/60000 (11%)]\tLoss: 0.544595\n",
      "Train Epoch: 7 [12800/60000 (21%)]\tLoss: 0.069766\n",
      "Train Epoch: 7 [19200/60000 (32%)]\tLoss: 0.044119\n",
      "Train Epoch: 7 [25600/60000 (43%)]\tLoss: 0.254877\n",
      "Train Epoch: 7 [32000/60000 (53%)]\tLoss: 0.065322\n",
      "Train Epoch: 7 [38400/60000 (64%)]\tLoss: 0.153329\n",
      "Train Epoch: 7 [44800/60000 (75%)]\tLoss: 0.145796\n",
      "Train Epoch: 7 [51200/60000 (85%)]\tLoss: 0.476764\n",
      "Train Epoch: 7 [57600/60000 (96%)]\tLoss: 0.237763\n",
      "\n",
      "Validation set: Average loss: 0.1212, Accuracy: 9607/10000 (96%)\n",
      "\n",
      "Train Epoch: 8 [0/60000 (0%)]\tLoss: 0.078016\n",
      "Train Epoch: 8 [6400/60000 (11%)]\tLoss: 0.381753\n",
      "Train Epoch: 8 [12800/60000 (21%)]\tLoss: 0.223631\n",
      "Train Epoch: 8 [19200/60000 (32%)]\tLoss: 0.206632\n",
      "Train Epoch: 8 [25600/60000 (43%)]\tLoss: 0.102937\n",
      "Train Epoch: 8 [32000/60000 (53%)]\tLoss: 0.105110\n",
      "Train Epoch: 8 [38400/60000 (64%)]\tLoss: 0.125699\n",
      "Train Epoch: 8 [44800/60000 (75%)]\tLoss: 0.330084\n",
      "Train Epoch: 8 [51200/60000 (85%)]\tLoss: 0.186593\n",
      "Train Epoch: 8 [57600/60000 (96%)]\tLoss: 0.057848\n",
      "\n",
      "Validation set: Average loss: 0.1116, Accuracy: 9659/10000 (97%)\n",
      "\n",
      "Train Epoch: 9 [0/60000 (0%)]\tLoss: 0.058407\n",
      "Train Epoch: 9 [6400/60000 (11%)]\tLoss: 0.151264\n",
      "Train Epoch: 9 [12800/60000 (21%)]\tLoss: 0.233759\n",
      "Train Epoch: 9 [19200/60000 (32%)]\tLoss: 0.091664\n",
      "Train Epoch: 9 [25600/60000 (43%)]\tLoss: 0.294752\n",
      "Train Epoch: 9 [32000/60000 (53%)]\tLoss: 0.026049\n",
      "Train Epoch: 9 [38400/60000 (64%)]\tLoss: 0.070107\n",
      "Train Epoch: 9 [44800/60000 (75%)]\tLoss: 0.175309\n",
      "Train Epoch: 9 [51200/60000 (85%)]\tLoss: 0.134067\n",
      "Train Epoch: 9 [57600/60000 (96%)]\tLoss: 0.233485\n",
      "\n",
      "Validation set: Average loss: 0.1033, Accuracy: 9684/10000 (97%)\n",
      "\n",
      "Train Epoch: 10 [0/60000 (0%)]\tLoss: 0.071886\n",
      "Train Epoch: 10 [6400/60000 (11%)]\tLoss: 0.113617\n",
      "Train Epoch: 10 [12800/60000 (21%)]\tLoss: 0.385059\n",
      "Train Epoch: 10 [19200/60000 (32%)]\tLoss: 0.402740\n",
      "Train Epoch: 10 [25600/60000 (43%)]\tLoss: 0.106267\n",
      "Train Epoch: 10 [32000/60000 (53%)]\tLoss: 0.209937\n",
      "Train Epoch: 10 [38400/60000 (64%)]\tLoss: 0.187547\n",
      "Train Epoch: 10 [44800/60000 (75%)]\tLoss: 0.104120\n",
      "Train Epoch: 10 [51200/60000 (85%)]\tLoss: 0.140739\n",
      "Train Epoch: 10 [57600/60000 (96%)]\tLoss: 0.076129\n",
      "\n",
      "Validation set: Average loss: 0.0982, Accuracy: 9703/10000 (97%)\n",
      "\n",
      "CPU times: total: 1min 23s\n",
      "Wall time: 1min 25s\n"
     ]
    }
   ],
   "source": [
    "%%time\n",
    "epochs = 10\n",
    "\n",
    "lossv, accv = [], []\n",
    "for epoch in range(1, epochs + 1):\n",
    "    train(epoch)\n",
    "    validate(lossv, accv)"
   ]
  },
  {
   "cell_type": "markdown",
   "metadata": {
    "pycharm": {
     "name": "#%% md\n"
    }
   },
   "source": [
    "Let's now visualize how the training progressed. \n",
    "\n",
    "* *Loss* is a function of the difference of the network output and the target values.  We are minimizing the loss function during training so it should decrease over time.\n",
    "* *Accuracy* is the classification accuracy for the test data."
   ]
  },
  {
   "cell_type": "code",
   "execution_count": 10,
   "metadata": {
    "pycharm": {
     "name": "#%%\n"
    }
   },
   "outputs": [
    {
     "data": {
      "image/png": "[encoded data removed]",
      "text/plain": [
       "<Figure size 500x300 with 1 Axes>"
      ]
     },
     "metadata": {},
     "output_type": "display_data"
    },
    {
     "data": {
      "image/png": "[encoded data removed]",
      "text/plain": [
       "<Figure size 500x300 with 1 Axes>"
      ]
     },
     "metadata": {},
     "output_type": "display_data"
    }
   ],
   "source": [
    "plt.figure(figsize=(5,3))\n",
    "plt.plot(np.arange(1,epochs+1), lossv)\n",
    "plt.title('validation loss')\n",
    "\n",
    "plt.figure(figsize=(5,3))\n",
    "plt.plot(np.arange(1,epochs+1), accv)\n",
    "plt.title('validation accuracy');"
   ]
  },
  {
   "cell_type": "markdown",
   "metadata": {
    "pycharm": {
     "name": "#%% md\n"
    }
   },
   "source": [
    "## Model tuning\n",
    "\n",
    "Modify the MLP model.  Try to improve the classification accuracy, or experiment with the effects of different parameters.  If you are interested in the state-of-the-art performance on permutation invariant MNIST, see e.g. this [recent paper](https://arxiv.org/abs/1507.02672) by Aalto University / The Curious AI Company researchers.\n",
    "\n",
    "You can also consult the PyTorch documentation at http://pytorch.org/."
   ]
  },
  {
   "cell_type": "code",
   "execution_count": 40,
   "metadata": {
    "pycharm": {
     "name": "#%%\n"
    }
   },
   "outputs": [
    {
     "name": "stdout",
     "output_type": "stream",
     "text": [
      "MyNet(\n",
      "  (fc1): Linear(in_features=784, out_features=128, bias=True)\n",
      "  (fc1_drop): Dropout(p=0.2, inplace=False)\n",
      "  (fc2): Linear(in_features=128, out_features=64, bias=True)\n",
      "  (fc2_drop): Dropout(p=0.2, inplace=False)\n",
      "  (fc3): Linear(in_features=64, out_features=32, bias=True)\n",
      "  (fc3_drop): Dropout(p=0.2, inplace=False)\n",
      "  (fc4): Linear(in_features=32, out_features=10, bias=True)\n",
      ")\n"
     ]
    }
   ],
   "source": [
    "class MyNet(nn.Module):\n",
    "    def __init__(self):\n",
    "        super(MyNet, self).__init__()\n",
    "        self.fc1 = nn.Linear(28*28, 128)\n",
    "        self.fc1_drop = nn.Dropout(0.2)\n",
    "        self.fc2 = nn.Linear(128, 64)\n",
    "        self.fc2_drop = nn.Dropout(0.2)\n",
    "        self.fc3 = nn.Linear(64, 32)\n",
    "        self.fc3_drop = nn.Dropout(0.2)\n",
    "        self.fc4 = nn.Linear(32, 10)\n",
    "\n",
    "    # 只需要实现forward函数，backward函数PyTorch会自动实现\n",
    "    def forward(self, x):\n",
    "        # Flatten the data (n, 1, 28, 28) => (n, 784)\n",
    "        x = x.view(-1, 28*28)   # [32, 28*28]\n",
    "        # hidden layer\n",
    "        x = F.relu(self.fc1(x)) \n",
    "        x = self.fc1_drop(x)\n",
    "        x = F.relu(self.fc2(x))\n",
    "        x = self.fc2_drop(x)\n",
    "        x = F.relu(self.fc3(x))\n",
    "        x = self.fc3_drop(x)\n",
    "        return F.log_softmax(self.fc4(x), dim=1)\n",
    "        \n",
    "\n",
    "my_model = MyNet().to(device)  # 将模型加载到GPU上(如果可用)\n",
    "my_optimizer = torch.optim.SGD(my_model.parameters(), lr=0.01, momentum=0.6)\n",
    "my_criterion = nn.CrossEntropyLoss()  # 使用交叉熵损失函数\n",
    "\n",
    "print(my_model)"
   ]
  },
  {
   "cell_type": "code",
   "execution_count": 14,
   "metadata": {},
   "outputs": [],
   "source": [
    "def my_train(epoch,  model, optimizer, criterion, train_loader, log_interval=200):\n",
    "    # Set model to training mode\n",
    "    model.train()\n",
    "    \n",
    "    # Loop over each batch from the training set\n",
    "    for batch_idx, (data, target) in enumerate(train_loader):  # 从训练集中获取数据(图像和标签)\n",
    "        # Copy data to GPU if needed\n",
    "        data = data.to(device)  # x\n",
    "        target = target.to(device)  # y\n",
    "\n",
    "        # Zero gradient buffers\n",
    "        optimizer.zero_grad()  # 梯度清零\n",
    "        \n",
    "        # Pass data through the network\n",
    "        output = model(data)  # 前向传播\n",
    "\n",
    "        # Calculate loss\n",
    "        loss = criterion(output, target)  # 计算损失\n",
    "\n",
    "        # Backpropagate\n",
    "        loss.backward()  # 反向传播\n",
    "        \n",
    "        # Update weights\n",
    "        optimizer.step()    #  w - alpha * dL / dw\n",
    "        \n",
    "        if batch_idx % log_interval == 0:  # 每200个批次打印一次\n",
    "            print('Train Epoch: {} [{}/{} ({:.0f}%)]\\tLoss: {:.6f}'.format(\n",
    "                epoch, batch_idx * len(data), len(train_loader.dataset),\n",
    "                100. * batch_idx / len(train_loader), loss.data.item()))\n",
    "\n",
    "def my_validate(loss_vector, accuracy_vector, model, criterion, validation_loader):\n",
    "    model.eval()  # 设置模型为评估模式\n",
    "    val_loss, correct = 0, 0\n",
    "    for data, target in validation_loader:  # 从验证集中获取数据\n",
    "        data = data.to(device)\n",
    "        target = target.to(device)\n",
    "        output = model(data)\n",
    "        val_loss += criterion(output, target).data.item()  # sum up batch loss\n",
    "        pred = output.data.max(1)[1] # get the index of the max log-probability\n",
    "        correct += pred.eq(target.data).cpu().sum()  # 对预测正确的数量进行累加\n",
    "\n",
    "    val_loss /= len(validation_loader)  # 计算平均损失\n",
    "    loss_vector.append(val_loss)  # 将损失添加到列表中\n",
    "\n",
    "    accuracy = 100. * correct.to(torch.float32) / len(validation_loader.dataset)\n",
    "    accuracy_vector.append(accuracy)\n",
    "    \n",
    "    print('\\nValidation set: Average loss: {:.4f}, Accuracy: {}/{} ({:.0f}%)\\n'.format(\n",
    "        val_loss, correct, len(validation_loader.dataset), accuracy))\n"
   ]
  },
  {
   "cell_type": "code",
   "execution_count": 41,
   "metadata": {},
   "outputs": [
    {
     "name": "stdout",
     "output_type": "stream",
     "text": [
      "Train Epoch: 1 [0/60000 (0%)]\tLoss: 2.305480\n",
      "Train Epoch: 1 [12800/60000 (21%)]\tLoss: 2.092080\n",
      "Train Epoch: 1 [25600/60000 (43%)]\tLoss: 1.079490\n",
      "Train Epoch: 1 [38400/60000 (64%)]\tLoss: 0.682997\n",
      "Train Epoch: 1 [51200/60000 (85%)]\tLoss: 0.495749\n",
      "\n",
      "Validation set: Average loss: 0.3776, Accuracy: 8920/10000 (89%)\n",
      "\n",
      "Train Epoch: 2 [0/60000 (0%)]\tLoss: 0.536515\n",
      "Train Epoch: 2 [12800/60000 (21%)]\tLoss: 0.341808\n",
      "Train Epoch: 2 [25600/60000 (43%)]\tLoss: 0.579684\n",
      "Train Epoch: 2 [38400/60000 (64%)]\tLoss: 0.294470\n",
      "Train Epoch: 2 [51200/60000 (85%)]\tLoss: 0.347238\n",
      "\n",
      "Validation set: Average loss: 0.2198, Accuracy: 9349/10000 (93%)\n",
      "\n",
      "Train Epoch: 3 [0/60000 (0%)]\tLoss: 0.739714\n",
      "Train Epoch: 3 [12800/60000 (21%)]\tLoss: 0.635408\n",
      "Train Epoch: 3 [25600/60000 (43%)]\tLoss: 0.220174\n",
      "Train Epoch: 3 [38400/60000 (64%)]\tLoss: 0.279702\n",
      "Train Epoch: 3 [51200/60000 (85%)]\tLoss: 0.267320\n",
      "\n",
      "Validation set: Average loss: 0.1657, Accuracy: 9523/10000 (95%)\n",
      "\n",
      "Train Epoch: 4 [0/60000 (0%)]\tLoss: 0.095082\n",
      "Train Epoch: 4 [12800/60000 (21%)]\tLoss: 0.215338\n",
      "Train Epoch: 4 [25600/60000 (43%)]\tLoss: 0.079984\n",
      "Train Epoch: 4 [38400/60000 (64%)]\tLoss: 0.330389\n",
      "Train Epoch: 4 [51200/60000 (85%)]\tLoss: 0.149288\n",
      "\n",
      "Validation set: Average loss: 0.1328, Accuracy: 9605/10000 (96%)\n",
      "\n",
      "Train Epoch: 5 [0/60000 (0%)]\tLoss: 0.102922\n",
      "Train Epoch: 5 [12800/60000 (21%)]\tLoss: 0.197452\n",
      "Train Epoch: 5 [25600/60000 (43%)]\tLoss: 0.299597\n",
      "Train Epoch: 5 [38400/60000 (64%)]\tLoss: 0.113502\n",
      "Train Epoch: 5 [51200/60000 (85%)]\tLoss: 0.266765\n",
      "\n",
      "Validation set: Average loss: 0.1233, Accuracy: 9641/10000 (96%)\n",
      "\n",
      "Train Epoch: 6 [0/60000 (0%)]\tLoss: 0.075670\n",
      "Train Epoch: 6 [12800/60000 (21%)]\tLoss: 0.049813\n",
      "Train Epoch: 6 [25600/60000 (43%)]\tLoss: 0.199865\n",
      "Train Epoch: 6 [38400/60000 (64%)]\tLoss: 0.291231\n",
      "Train Epoch: 6 [51200/60000 (85%)]\tLoss: 0.122227\n",
      "\n",
      "Validation set: Average loss: 0.1113, Accuracy: 9657/10000 (97%)\n",
      "\n",
      "Train Epoch: 7 [0/60000 (0%)]\tLoss: 0.037992\n",
      "Train Epoch: 7 [12800/60000 (21%)]\tLoss: 0.031994\n",
      "Train Epoch: 7 [25600/60000 (43%)]\tLoss: 0.593734\n",
      "Train Epoch: 7 [38400/60000 (64%)]\tLoss: 0.082654\n",
      "Train Epoch: 7 [51200/60000 (85%)]\tLoss: 0.081562\n",
      "\n",
      "Validation set: Average loss: 0.1036, Accuracy: 9692/10000 (97%)\n",
      "\n",
      "Train Epoch: 8 [0/60000 (0%)]\tLoss: 0.053291\n",
      "Train Epoch: 8 [12800/60000 (21%)]\tLoss: 0.028435\n",
      "Train Epoch: 8 [25600/60000 (43%)]\tLoss: 0.265771\n",
      "Train Epoch: 8 [38400/60000 (64%)]\tLoss: 0.091592\n",
      "Train Epoch: 8 [51200/60000 (85%)]\tLoss: 0.072752\n",
      "\n",
      "Validation set: Average loss: 0.0960, Accuracy: 9719/10000 (97%)\n",
      "\n",
      "Train Epoch: 9 [0/60000 (0%)]\tLoss: 0.286992\n",
      "Train Epoch: 9 [12800/60000 (21%)]\tLoss: 0.095177\n",
      "Train Epoch: 9 [25600/60000 (43%)]\tLoss: 0.196790\n",
      "Train Epoch: 9 [38400/60000 (64%)]\tLoss: 0.094994\n",
      "Train Epoch: 9 [51200/60000 (85%)]\tLoss: 0.175467\n",
      "\n",
      "Validation set: Average loss: 0.0955, Accuracy: 9713/10000 (97%)\n",
      "\n",
      "Train Epoch: 10 [0/60000 (0%)]\tLoss: 0.140116\n",
      "Train Epoch: 10 [12800/60000 (21%)]\tLoss: 0.470619\n",
      "Train Epoch: 10 [25600/60000 (43%)]\tLoss: 0.084600\n",
      "Train Epoch: 10 [38400/60000 (64%)]\tLoss: 0.102356\n",
      "Train Epoch: 10 [51200/60000 (85%)]\tLoss: 0.175312\n",
      "\n",
      "Validation set: Average loss: 0.0859, Accuracy: 9755/10000 (98%)\n",
      "\n",
      "CPU times: total: 1min 15s\n",
      "Wall time: 1min 44s\n"
     ]
    }
   ],
   "source": [
    "%%time\n",
    "epochs = 10\n",
    "\n",
    "lossv, accv = [], []\n",
    "for epoch in range(1, epochs + 1):\n",
    "    my_train(epoch, my_model, my_optimizer, my_criterion, train_loader, 400)\n",
    "    my_validate(lossv, accv, my_model, my_criterion, validation_loader)"
   ]
  },
  {
   "cell_type": "code",
   "execution_count": 42,
   "metadata": {},
   "outputs": [
    {
     "data": {
      "text/plain": [
       "Text(0.5, 1.0, 'validation loss')"
      ]
     },
     "execution_count": 42,
     "metadata": {},
     "output_type": "execute_result"
    },
    {
     "data": {
      "image/png": "[encoded data removed]",
      "text/plain": [
       "<Figure size 500x300 with 1 Axes>"
      ]
     },
     "metadata": {},
     "output_type": "display_data"
    },
    {
     "data": {
      "image/png": "[encoded data removed]",
      "text/plain": [
       "<Figure size 500x300 with 1 Axes>"
      ]
     },
     "metadata": {},
     "output_type": "display_data"
    }
   ],
   "source": [
    "plt.figure(figsize=(5,3))\n",
    "plt.plot(np.arange(1,epochs+1), accv)\n",
    "plt.title('validation accuracy');\n",
    "plt.figure(figsize=(5,3))\n",
    "plt.plot(np.arange(1,epochs+1), lossv)\n",
    "plt.title('validation loss')"
   ]
  }
 ],
 "metadata": {
  "kernelspec": {
   "display_name": "d2l",
   "language": "python",
   "name": "python3"
  },
  "language_info": {
   "codemirror_mode": {
    "name": "ipython",
    "version": 3
   },
   "file_extension": ".py",
   "mimetype": "text/x-python",
   "name": "python",
   "nbconvert_exporter": "python",
   "pygments_lexer": "ipython3",
   "version": "3.9.18"
  }
 },
 "nbformat": 4,
 "nbformat_minor": 4
}
