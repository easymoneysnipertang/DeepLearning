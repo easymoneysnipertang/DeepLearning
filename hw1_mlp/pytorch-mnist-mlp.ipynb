{
 "cells": [
  {
   "cell_type": "markdown",
   "metadata": {
    "pycharm": {
     "name": "#%% md\n"
    }
   },
   "source": [
    "# MNIST handwritten digits classification with MLPs\n",
    "\n",
    "In this notebook, we'll train a multi-layer perceptron model to classify MNIST digits using **PyTorch**. \n",
    "\n",
    "First, the needed imports. "
   ]
  },
  {
   "cell_type": "code",
   "execution_count": 1,
   "metadata": {
    "pycharm": {
     "name": "#%%\n"
    }
   },
   "outputs": [
    {
     "name": "stdout",
     "output_type": "stream",
     "text": [
      "True\n",
      "1\n",
      "10.2\n",
      "1.10.0+cu102\n"
     ]
    }
   ],
   "source": [
    "import torch # 如果pytorch安装成功即可导入\n",
    "print(torch.cuda.is_available()) # 查看CUDA是否可用\n",
    "print(torch.cuda.device_count()) # 查看可用的CUDA数量\n",
    "print(torch.version.cuda) # 查看CUDA的版本号\n",
    "print(torch.__version__)# 查看PyTorch的版本号"
   ]
  },
  {
   "cell_type": "code",
   "execution_count": 2,
   "metadata": {
    "pycharm": {
     "name": "#%%\n"
    },
    "scrolled": true
   },
   "outputs": [
    {
     "name": "stdout",
     "output_type": "stream",
     "text": [
      "Using PyTorch version: 1.10.0+cu102  Device: cuda\n"
     ]
    }
   ],
   "source": [
    "%matplotlib inline\n",
    "\n",
    "import torch\n",
    "import torch.nn as nn\n",
    "import torch.nn.functional as F\n",
    "from torchvision import datasets, transforms\n",
    "\n",
    "import numpy as np\n",
    "import matplotlib.pyplot as plt\n",
    "\n",
    "if torch.cuda.is_available():\n",
    "    device = torch.device('cuda')\n",
    "else:\n",
    "    device = torch.device('cpu')\n",
    "    \n",
    "# 查看PyTorch版本和设备\n",
    "print('Using PyTorch version:', torch.__version__, ' Device:', device)"
   ]
  },
  {
   "cell_type": "markdown",
   "metadata": {
    "pycharm": {
     "name": "#%% md\n"
    }
   },
   "source": [
    "## Data\n",
    "\n",
    "Next we'll load the MNIST data.  First time we may have to download the data, which can take a while.\n",
    "\n",
    "Note that we are here using the MNIST test data for *validation*, instead of for testing the final model."
   ]
  },
  {
   "cell_type": "code",
   "execution_count": 3,
   "metadata": {
    "pycharm": {
     "name": "#%%\n"
    }
   },
   "outputs": [],
   "source": [
    "batch_size = 32\n",
    "\n",
    "train_dataset = datasets.MNIST('./data', \n",
    "                               train=True,  # 训练集\n",
    "                               download=True,  # 如果数据不存在则下载\n",
    "                               transform=transforms.ToTensor())  # 转换为张量\n",
    "\n",
    "validation_dataset = datasets.MNIST('./data', \n",
    "                                    train=False, \n",
    "                                    transform=transforms.ToTensor())\n",
    "\n",
    "train_loader = torch.utils.data.DataLoader(dataset=train_dataset, \n",
    "                                           batch_size=batch_size,  # 每个批次的大小\n",
    "                                           shuffle=True)  # 是否打乱数据\n",
    "\n",
    "validation_loader = torch.utils.data.DataLoader(dataset=validation_dataset, \n",
    "                                                batch_size=batch_size, \n",
    "                                                shuffle=False)"
   ]
  },
  {
   "cell_type": "markdown",
   "metadata": {
    "pycharm": {
     "name": "#%% md\n"
    }
   },
   "source": [
    "The train and test data are provided via data loaders that provide iterators over the datasets. The first element of training data (`X_train`) is a 4th-order tensor of size (`batch_size`, 1, 28, 28), i.e. it consists of a batch of images of size 1x28x28 pixels. `y_train` is a vector containing the correct classes (\"0\", \"1\", ..., \"9\") for each training digit."
   ]
  },
  {
   "cell_type": "code",
   "execution_count": 4,
   "metadata": {
    "pycharm": {
     "name": "#%%\n"
    }
   },
   "outputs": [
    {
     "name": "stdout",
     "output_type": "stream",
     "text": [
      "X_train: torch.Size([32, 1, 28, 28]) type: torch.FloatTensor\n",
      "y_train: torch.Size([32]) type: torch.LongTensor\n"
     ]
    }
   ],
   "source": [
    "for (X_train, y_train) in train_loader:\n",
    "    # 四维张量：(批大小, 通道, 高, 宽)\n",
    "    print('X_train:', X_train.size(), 'type:', X_train.type())\n",
    "    print('y_train:', y_train.size(), 'type:', y_train.type())\n",
    "    break"
   ]
  },
  {
   "cell_type": "markdown",
   "metadata": {
    "pycharm": {
     "name": "#%% md\n"
    }
   },
   "source": [
    "Here are the first 10 training digits:"
   ]
  },
  {
   "cell_type": "code",
   "execution_count": 5,
   "metadata": {
    "pycharm": {
     "name": "#%%\n"
    }
   },
   "outputs": [
    {
     "data": {
      "image/png": "[encoded data removed]",
      "text/plain": [
       "<Figure size 1000x100 with 10 Axes>"
      ]
     },
     "metadata": {},
     "output_type": "display_data"
    }
   ],
   "source": [
    "pltsize=1\n",
    "plt.figure(figsize=(10*pltsize, pltsize))\n",
    "\n",
    "for i in range(10):\n",
    "    plt.subplot(1,10,i+1)\n",
    "    plt.axis('off')\n",
    "    # 将第i个图像转换为28x28的张量\n",
    "    plt.imshow(X_train[i,:,:,:].numpy().reshape(28,28), cmap=\"gray_r\")\n",
    "    plt.title('Class: '+str(y_train[i].item()))"
   ]
  },
  {
   "cell_type": "markdown",
   "metadata": {
    "pycharm": {
     "name": "#%% md\n"
    }
   },
   "source": [
    "## MLP network definition\n",
    "\n",
    "Let's define the network as a Python class.  We have to write the `__init__()` and `forward()` methods, and PyTorch will automatically generate a `backward()` method for computing the gradients for the backward pass.\n",
    "\n",
    "Finally, we define an optimizer to update the model parameters based on the computed gradients.  We select *stochastic gradient descent (with momentum)* as the optimization algorithm, and set *learning rate* to 0.01.  Note that there are [several different options](http://pytorch.org/docs/optim.html#algorithms) for the optimizer in PyTorch that we could use instead of *SGD*."
   ]
  },
  {
   "cell_type": "code",
   "execution_count": 11,
   "metadata": {
    "pycharm": {
     "name": "#%%\n"
    }
   },
   "outputs": [
    {
     "name": "stdout",
     "output_type": "stream",
     "text": [
      "Net(\n",
      "  (fc1): Linear(in_features=784, out_features=100, bias=True)\n",
      "  (fc1_drop): Dropout(p=0.2, inplace=False)\n",
      "  (fc2): Linear(in_features=100, out_features=80, bias=True)\n",
      "  (fc2_drop): Dropout(p=0.2, inplace=False)\n",
      "  (fc3): Linear(in_features=80, out_features=10, bias=True)\n",
      ")\n"
     ]
    }
   ],
   "source": [
    "class Net(nn.Module):\n",
    "    def __init__(self):\n",
    "        super(Net, self).__init__()\n",
    "        self.fc1 = nn.Linear(28*28, 100)  # weight: [28*28, 50]   bias: [50, ]\n",
    "        self.fc1_drop = nn.Dropout(0.2)\n",
    "        self.fc2 = nn.Linear(100, 80)\n",
    "        self.fc2_drop = nn.Dropout(0.2)\n",
    "        self.fc3 = nn.Linear(80, 10)\n",
    "        \n",
    "#         self.relu1 = nn.ReLU() \n",
    "\n",
    "    # 只需要实现forward函数，backward函数PyTorch会自动实现\n",
    "    def forward(self, x):\n",
    "        # Flatten the data (n, 1, 28, 28) => (n, 784)\n",
    "        x = x.view(-1, 28*28)   # [32, 28*28]\n",
    "        # hidden layer\n",
    "        x = F.relu(self.fc1(x)) \n",
    "        x = self.fc1_drop(x)\n",
    "        x = F.relu(self.fc2(x))\n",
    "        x = self.fc2_drop(x)   # [32, 10]\n",
    "        return F.log_softmax(self.fc3(x), dim=1)  # 输出层使用log_softmax激活函数\n",
    "\n",
    "model = Net().to(device)  # 将模型加载到GPU上(如果可用)\n",
    "optimizer = torch.optim.SGD(model.parameters(), lr=0.01, momentum=0.5)  # 使用随机梯度下降优化器\n",
    "criterion = nn.CrossEntropyLoss()  # 使用交叉熵损失函数\n",
    "\n",
    "print(model)"
   ]
  },
  {
   "cell_type": "markdown",
   "metadata": {
    "pycharm": {
     "name": "#%% md\n"
    }
   },
   "source": [
    "## Learning\n",
    "\n",
    "Let's now define functions to `train()` and `validate()` the model. "
   ]
  },
  {
   "cell_type": "code",
   "execution_count": 12,
   "metadata": {
    "pycharm": {
     "name": "#%%\n"
    }
   },
   "outputs": [],
   "source": [
    "def train(epoch, log_interval=200):\n",
    "    # Set model to training mode\n",
    "    model.train()\n",
    "    \n",
    "    # Loop over each batch from the training set\n",
    "    for batch_idx, (data, target) in enumerate(train_loader):  # 从训练集中获取数据(图像和标签)\n",
    "        # Copy data to GPU if needed\n",
    "        data = data.to(device)  # x\n",
    "        target = target.to(device)  # y\n",
    "\n",
    "        # Zero gradient buffers\n",
    "        optimizer.zero_grad()  # 梯度清零\n",
    "        \n",
    "        # Pass data through the network\n",
    "        output = model(data)  # 前向传播\n",
    "\n",
    "        # Calculate loss\n",
    "        loss = criterion(output, target)  # 计算损失\n",
    "\n",
    "        # Backpropagate\n",
    "        loss.backward()  # 反向传播\n",
    "        \n",
    "        # Update weights\n",
    "        optimizer.step()    #  w - alpha * dL / dw\n",
    "        \n",
    "        if batch_idx % log_interval == 0:  # 每200个批次打印一次\n",
    "            print('Train Epoch: {} [{}/{} ({:.0f}%)]\\tLoss: {:.6f}'.format(\n",
    "                epoch, batch_idx * len(data), len(train_loader.dataset),\n",
    "                100. * batch_idx / len(train_loader), loss.data.item()))"
   ]
  },
  {
   "cell_type": "code",
   "execution_count": 13,
   "metadata": {
    "pycharm": {
     "name": "#%%\n"
    }
   },
   "outputs": [],
   "source": [
    "def validate(loss_vector, accuracy_vector):\n",
    "    model.eval()  # 设置模型为评估模式\n",
    "    val_loss, correct = 0, 0\n",
    "    for data, target in validation_loader:  # 从验证集中获取数据\n",
    "        data = data.to(device)\n",
    "        target = target.to(device)\n",
    "        output = model(data)\n",
    "        val_loss += criterion(output, target).data.item()  # sum up batch loss\n",
    "        pred = output.data.max(1)[1] # get the index of the max log-probability\n",
    "        correct += pred.eq(target.data).cpu().sum()  # 对预测正确的数量进行累加\n",
    "\n",
    "    val_loss /= len(validation_loader)  # 计算平均损失\n",
    "    loss_vector.append(val_loss)  # 将损失添加到列表中\n",
    "\n",
    "    accuracy = 100. * correct.to(torch.float32) / len(validation_loader.dataset)\n",
    "    accuracy_vector.append(accuracy)\n",
    "    \n",
    "    print('\\nValidation set: Average loss: {:.4f}, Accuracy: {}/{} ({:.0f}%)\\n'.format(\n",
    "        val_loss, correct, len(validation_loader.dataset), accuracy))\n"
   ]
  },
  {
   "cell_type": "markdown",
   "metadata": {
    "pycharm": {
     "name": "#%% md\n"
    }
   },
   "source": [
    "Now we are ready to train our model using the `train()` function.  An *epoch* means one pass through the whole training data. After each epoch, we evaluate the model using `validate()`. "
   ]
  },
  {
   "cell_type": "code",
   "execution_count": 14,
   "metadata": {
    "pycharm": {
     "name": "#%%\n"
    }
   },
   "outputs": [
    {
     "name": "stdout",
     "output_type": "stream",
     "text": [
      "Train Epoch: 1 [0/60000 (0%)]\tLoss: 2.290980\n",
      "Train Epoch: 1 [6400/60000 (11%)]\tLoss: 0.822877\n",
      "Train Epoch: 1 [12800/60000 (21%)]\tLoss: 0.949298\n",
      "Train Epoch: 1 [19200/60000 (32%)]\tLoss: 0.331892\n",
      "Train Epoch: 1 [25600/60000 (43%)]\tLoss: 0.356550\n",
      "Train Epoch: 1 [32000/60000 (53%)]\tLoss: 0.362534\n",
      "Train Epoch: 1 [38400/60000 (64%)]\tLoss: 0.128694\n",
      "Train Epoch: 1 [44800/60000 (75%)]\tLoss: 0.182119\n",
      "Train Epoch: 1 [51200/60000 (85%)]\tLoss: 0.451894\n",
      "Train Epoch: 1 [57600/60000 (96%)]\tLoss: 0.425890\n",
      "\n",
      "Validation set: Average loss: 0.1632, Accuracy: 9490/10000 (95%)\n",
      "\n",
      "Train Epoch: 2 [0/60000 (0%)]\tLoss: 0.328524\n",
      "Train Epoch: 2 [6400/60000 (11%)]\tLoss: 0.199370\n",
      "Train Epoch: 2 [12800/60000 (21%)]\tLoss: 0.145550\n",
      "Train Epoch: 2 [19200/60000 (32%)]\tLoss: 0.194372\n",
      "Train Epoch: 2 [25600/60000 (43%)]\tLoss: 0.150597\n",
      "Train Epoch: 2 [32000/60000 (53%)]\tLoss: 0.088512\n",
      "Train Epoch: 2 [38400/60000 (64%)]\tLoss: 0.130405\n",
      "Train Epoch: 2 [44800/60000 (75%)]\tLoss: 0.237381\n",
      "Train Epoch: 2 [51200/60000 (85%)]\tLoss: 0.168005\n",
      "Train Epoch: 2 [57600/60000 (96%)]\tLoss: 0.290980\n",
      "\n",
      "Validation set: Average loss: 0.1224, Accuracy: 9609/10000 (96%)\n",
      "\n",
      "Train Epoch: 3 [0/60000 (0%)]\tLoss: 0.101353\n",
      "Train Epoch: 3 [6400/60000 (11%)]\tLoss: 0.051143\n",
      "Train Epoch: 3 [12800/60000 (21%)]\tLoss: 0.090138\n",
      "Train Epoch: 3 [19200/60000 (32%)]\tLoss: 0.169222\n",
      "Train Epoch: 3 [25600/60000 (43%)]\tLoss: 0.088323\n",
      "Train Epoch: 3 [32000/60000 (53%)]\tLoss: 0.087479\n",
      "Train Epoch: 3 [38400/60000 (64%)]\tLoss: 0.157293\n",
      "Train Epoch: 3 [44800/60000 (75%)]\tLoss: 0.050709\n",
      "Train Epoch: 3 [51200/60000 (85%)]\tLoss: 0.059376\n",
      "Train Epoch: 3 [57600/60000 (96%)]\tLoss: 0.095470\n",
      "\n",
      "Validation set: Average loss: 0.1041, Accuracy: 9682/10000 (97%)\n",
      "\n",
      "Train Epoch: 4 [0/60000 (0%)]\tLoss: 0.147290\n",
      "Train Epoch: 4 [6400/60000 (11%)]\tLoss: 0.070949\n",
      "Train Epoch: 4 [12800/60000 (21%)]\tLoss: 0.136896\n",
      "Train Epoch: 4 [19200/60000 (32%)]\tLoss: 0.066234\n",
      "Train Epoch: 4 [25600/60000 (43%)]\tLoss: 0.078315\n",
      "Train Epoch: 4 [32000/60000 (53%)]\tLoss: 0.015742\n",
      "Train Epoch: 4 [38400/60000 (64%)]\tLoss: 0.236672\n",
      "Train Epoch: 4 [44800/60000 (75%)]\tLoss: 0.061632\n",
      "Train Epoch: 4 [51200/60000 (85%)]\tLoss: 0.011494\n",
      "Train Epoch: 4 [57600/60000 (96%)]\tLoss: 0.011733\n",
      "\n",
      "Validation set: Average loss: 0.0943, Accuracy: 9697/10000 (97%)\n",
      "\n",
      "Train Epoch: 5 [0/60000 (0%)]\tLoss: 0.031201\n",
      "Train Epoch: 5 [6400/60000 (11%)]\tLoss: 0.120104\n",
      "Train Epoch: 5 [12800/60000 (21%)]\tLoss: 0.117952\n",
      "Train Epoch: 5 [19200/60000 (32%)]\tLoss: 0.228034\n",
      "Train Epoch: 5 [25600/60000 (43%)]\tLoss: 0.056107\n",
      "Train Epoch: 5 [32000/60000 (53%)]\tLoss: 0.100806\n",
      "Train Epoch: 5 [38400/60000 (64%)]\tLoss: 0.043100\n",
      "Train Epoch: 5 [44800/60000 (75%)]\tLoss: 0.027922\n",
      "Train Epoch: 5 [51200/60000 (85%)]\tLoss: 0.150569\n",
      "Train Epoch: 5 [57600/60000 (96%)]\tLoss: 0.094898\n",
      "\n",
      "Validation set: Average loss: 0.0866, Accuracy: 9732/10000 (97%)\n",
      "\n",
      "Train Epoch: 6 [0/60000 (0%)]\tLoss: 0.081570\n",
      "Train Epoch: 6 [6400/60000 (11%)]\tLoss: 0.007453\n",
      "Train Epoch: 6 [12800/60000 (21%)]\tLoss: 0.051364\n",
      "Train Epoch: 6 [19200/60000 (32%)]\tLoss: 0.398340\n",
      "Train Epoch: 6 [25600/60000 (43%)]\tLoss: 0.111510\n",
      "Train Epoch: 6 [32000/60000 (53%)]\tLoss: 0.035497\n",
      "Train Epoch: 6 [38400/60000 (64%)]\tLoss: 0.084544\n",
      "Train Epoch: 6 [44800/60000 (75%)]\tLoss: 0.004212\n",
      "Train Epoch: 6 [51200/60000 (85%)]\tLoss: 0.035846\n",
      "Train Epoch: 6 [57600/60000 (96%)]\tLoss: 0.210430\n",
      "\n",
      "Validation set: Average loss: 0.0787, Accuracy: 9757/10000 (98%)\n",
      "\n",
      "Train Epoch: 7 [0/60000 (0%)]\tLoss: 0.401503\n",
      "Train Epoch: 7 [6400/60000 (11%)]\tLoss: 0.031163\n",
      "Train Epoch: 7 [12800/60000 (21%)]\tLoss: 0.028423\n",
      "Train Epoch: 7 [19200/60000 (32%)]\tLoss: 0.159450\n",
      "Train Epoch: 7 [25600/60000 (43%)]\tLoss: 0.072966\n",
      "Train Epoch: 7 [32000/60000 (53%)]\tLoss: 0.140111\n",
      "Train Epoch: 7 [38400/60000 (64%)]\tLoss: 0.028465\n",
      "Train Epoch: 7 [44800/60000 (75%)]\tLoss: 0.019980\n",
      "Train Epoch: 7 [51200/60000 (85%)]\tLoss: 0.099565\n",
      "Train Epoch: 7 [57600/60000 (96%)]\tLoss: 0.056254\n",
      "\n",
      "Validation set: Average loss: 0.0776, Accuracy: 9765/10000 (98%)\n",
      "\n",
      "Train Epoch: 8 [0/60000 (0%)]\tLoss: 0.038391\n",
      "Train Epoch: 8 [6400/60000 (11%)]\tLoss: 0.014972\n",
      "Train Epoch: 8 [12800/60000 (21%)]\tLoss: 0.046639\n",
      "Train Epoch: 8 [19200/60000 (32%)]\tLoss: 0.074403\n",
      "Train Epoch: 8 [25600/60000 (43%)]\tLoss: 0.275339\n",
      "Train Epoch: 8 [32000/60000 (53%)]\tLoss: 0.019554\n",
      "Train Epoch: 8 [38400/60000 (64%)]\tLoss: 0.093310\n",
      "Train Epoch: 8 [44800/60000 (75%)]\tLoss: 0.058757\n",
      "Train Epoch: 8 [51200/60000 (85%)]\tLoss: 0.016662\n",
      "Train Epoch: 8 [57600/60000 (96%)]\tLoss: 0.031113\n",
      "\n",
      "Validation set: Average loss: 0.0794, Accuracy: 9765/10000 (98%)\n",
      "\n",
      "Train Epoch: 9 [0/60000 (0%)]\tLoss: 0.124481\n",
      "Train Epoch: 9 [6400/60000 (11%)]\tLoss: 0.176828\n",
      "Train Epoch: 9 [12800/60000 (21%)]\tLoss: 0.078705\n",
      "Train Epoch: 9 [19200/60000 (32%)]\tLoss: 0.081369\n",
      "Train Epoch: 9 [25600/60000 (43%)]\tLoss: 0.104208\n",
      "Train Epoch: 9 [32000/60000 (53%)]\tLoss: 0.036528\n",
      "Train Epoch: 9 [38400/60000 (64%)]\tLoss: 0.070899\n",
      "Train Epoch: 9 [44800/60000 (75%)]\tLoss: 0.082950\n",
      "Train Epoch: 9 [51200/60000 (85%)]\tLoss: 0.212746\n",
      "Train Epoch: 9 [57600/60000 (96%)]\tLoss: 0.021475\n",
      "\n",
      "Validation set: Average loss: 0.0703, Accuracy: 9786/10000 (98%)\n",
      "\n",
      "Train Epoch: 10 [0/60000 (0%)]\tLoss: 0.010867\n",
      "Train Epoch: 10 [6400/60000 (11%)]\tLoss: 0.064849\n",
      "Train Epoch: 10 [12800/60000 (21%)]\tLoss: 0.103555\n",
      "Train Epoch: 10 [19200/60000 (32%)]\tLoss: 0.040091\n",
      "Train Epoch: 10 [25600/60000 (43%)]\tLoss: 0.046116\n",
      "Train Epoch: 10 [32000/60000 (53%)]\tLoss: 0.027320\n",
      "Train Epoch: 10 [38400/60000 (64%)]\tLoss: 0.025492\n",
      "Train Epoch: 10 [44800/60000 (75%)]\tLoss: 0.022049\n",
      "Train Epoch: 10 [51200/60000 (85%)]\tLoss: 0.092389\n",
      "Train Epoch: 10 [57600/60000 (96%)]\tLoss: 0.115504\n",
      "\n",
      "Validation set: Average loss: 0.0776, Accuracy: 9767/10000 (98%)\n",
      "\n",
      "Wall time: 1min 49s\n"
     ]
    }
   ],
   "source": [
    "%%time\n",
    "epochs = 10\n",
    "\n",
    "lossv, accv = [], []\n",
    "for epoch in range(1, epochs + 1):\n",
    "    train(epoch)\n",
    "    validate(lossv, accv)"
   ]
  },
  {
   "cell_type": "markdown",
   "metadata": {
    "pycharm": {
     "name": "#%% md\n"
    }
   },
   "source": [
    "Let's now visualize how the training progressed. \n",
    "\n",
    "* *Loss* is a function of the difference of the network output and the target values.  We are minimizing the loss function during training so it should decrease over time.\n",
    "* *Accuracy* is the classification accuracy for the test data."
   ]
  },
  {
   "cell_type": "code",
   "execution_count": 15,
   "metadata": {
    "pycharm": {
     "name": "#%%\n"
    }
   },
   "outputs": [
    {
     "data": {
      "text/plain": [
       "Text(0.5, 1.0, 'validation accuracy')"
      ]
     },
     "execution_count": 15,
     "metadata": {},
     "output_type": "execute_result"
    },
    {
     "data": {
      "image/png": "[encoded data removed]",
      "text/plain": [
       "<Figure size 1000x300 with 2 Axes>"
      ]
     },
     "metadata": {},
     "output_type": "display_data"
    }
   ],
   "source": [
    "plt.figure(figsize=(10,3))\n",
    "\n",
    "plt.subplot(1, 2, 1)\n",
    "plt.plot(np.arange(1,epochs+1), lossv)\n",
    "plt.title('validation loss')\n",
    "\n",
    "plt.subplot(1, 2, 2)\n",
    "plt.plot(np.arange(1,epochs+1), accv)\n",
    "plt.title('validation accuracy')"
   ]
  },
  {
   "cell_type": "markdown",
   "metadata": {
    "pycharm": {
     "name": "#%% md\n"
    }
   },
   "source": [
    "## Model tuning\n",
    "\n",
    "Modify the MLP model.  Try to improve the classification accuracy, or experiment with the effects of different parameters.  If you are interested in the state-of-the-art performance on permutation invariant MNIST, see e.g. this [recent paper](https://arxiv.org/abs/1507.02672) by Aalto University / The Curious AI Company researchers.\n",
    "\n",
    "You can also consult the PyTorch documentation at http://pytorch.org/."
   ]
  },
  {
   "cell_type": "code",
   "execution_count": 19,
   "metadata": {
    "pycharm": {
     "name": "#%%\n"
    }
   },
   "outputs": [
    {
     "name": "stdout",
     "output_type": "stream",
     "text": [
      "MyNet(\n",
      "  (fc1): Linear(in_features=784, out_features=256, bias=True)\n",
      "  (fc1_drop): Dropout(p=0.2, inplace=False)\n",
      "  (fc2): Linear(in_features=256, out_features=128, bias=True)\n",
      "  (fc2_drop): Dropout(p=0.2, inplace=False)\n",
      "  (fc3): Linear(in_features=128, out_features=64, bias=True)\n",
      "  (fc3_drop): Dropout(p=0.2, inplace=False)\n",
      "  (fc4): Linear(in_features=64, out_features=10, bias=True)\n",
      ")\n"
     ]
    }
   ],
   "source": [
    "class MyNet(nn.Module):\n",
    "    def __init__(self):\n",
    "        super(MyNet, self).__init__()\n",
    "        self.fc1 = nn.Linear(28*28, 256)\n",
    "        self.fc1_drop = nn.Dropout(0.2)\n",
    "        self.fc2 = nn.Linear(256, 128)\n",
    "        self.fc2_drop = nn.Dropout(0.2)\n",
    "        self.fc3 = nn.Linear(128, 64)\n",
    "        self.fc3_drop = nn.Dropout(0.2)\n",
    "        self.fc4 = nn.Linear(64, 10)\n",
    "\n",
    "    # 只需要实现forward函数，backward函数PyTorch会自动实现\n",
    "    def forward(self, x):\n",
    "        # Flatten the data (n, 1, 28, 28) => (n, 784)\n",
    "        x = x.view(-1, 28*28)   # [32, 28*28]\n",
    "        # hidden layer\n",
    "        x = F.relu(self.fc1(x)) \n",
    "        x = self.fc1_drop(x)\n",
    "        x = F.relu(self.fc2(x))\n",
    "        x = self.fc2_drop(x)\n",
    "        x = F.relu(self.fc3(x))\n",
    "        x = self.fc3_drop(x)\n",
    "        return F.log_softmax(self.fc4(x), dim=1)\n",
    "        \n",
    "\n",
    "my_model = MyNet().to(device)  # 将模型加载到GPU上(如果可用)\n",
    "my_optimizer = torch.optim.SGD(my_model.parameters(), lr=0.02, momentum=0.6)\n",
    "my_criterion = nn.CrossEntropyLoss()  # 使用交叉熵损失函数\n",
    "\n",
    "print(my_model)"
   ]
  },
  {
   "cell_type": "code",
   "execution_count": 17,
   "metadata": {
    "pycharm": {
     "name": "#%%\n"
    }
   },
   "outputs": [],
   "source": [
    "def my_train(epoch,  model, optimizer, criterion, train_loader, log_interval=200):\n",
    "    # Set model to training mode\n",
    "    model.train()\n",
    "    \n",
    "    # Loop over each batch from the training set\n",
    "    for batch_idx, (data, target) in enumerate(train_loader):  # 从训练集中获取数据(图像和标签)\n",
    "        # Copy data to GPU if needed\n",
    "        data = data.to(device)  # x\n",
    "        target = target.to(device)  # y\n",
    "\n",
    "        # Zero gradient buffers\n",
    "        optimizer.zero_grad()  # 梯度清零\n",
    "        \n",
    "        # Pass data through the network\n",
    "        output = model(data)  # 前向传播\n",
    "\n",
    "        # Calculate loss\n",
    "        loss = criterion(output, target)  # 计算损失\n",
    "\n",
    "        # Backpropagate\n",
    "        loss.backward()  # 反向传播\n",
    "        \n",
    "        # Update weights\n",
    "        optimizer.step()    #  w - alpha * dL / dw\n",
    "        \n",
    "        if batch_idx % log_interval == 0:  # 每200个批次打印一次\n",
    "            print('Train Epoch: {} [{}/{} ({:.0f}%)]\\tLoss: {:.6f}'.format(\n",
    "                epoch, batch_idx * len(data), len(train_loader.dataset),\n",
    "                100. * batch_idx / len(train_loader), loss.data.item()))\n",
    "\n",
    "def my_validate(loss_vector, accuracy_vector, model, criterion, validation_loader):\n",
    "    model.eval()  # 设置模型为评估模式\n",
    "    val_loss, correct = 0, 0\n",
    "    for data, target in validation_loader:  # 从验证集中获取数据\n",
    "        data = data.to(device)\n",
    "        target = target.to(device)\n",
    "        output = model(data)\n",
    "        val_loss += criterion(output, target).data.item()  # sum up batch loss\n",
    "        pred = output.data.max(1)[1] # get the index of the max log-probability\n",
    "        correct += pred.eq(target.data).cpu().sum()  # 对预测正确的数量进行累加\n",
    "\n",
    "    val_loss /= len(validation_loader)  # 计算平均损失\n",
    "    loss_vector.append(val_loss)  # 将损失添加到列表中\n",
    "\n",
    "    accuracy = 100. * correct.to(torch.float32) / len(validation_loader.dataset)\n",
    "    accuracy_vector.append(accuracy)\n",
    "    \n",
    "    print('\\nValidation set: Average loss: {:.4f}, Accuracy: {}/{} ({:.0f}%)\\n'.format(\n",
    "        val_loss, correct, len(validation_loader.dataset), accuracy))\n"
   ]
  },
  {
   "cell_type": "code",
   "execution_count": 20,
   "metadata": {
    "pycharm": {
     "name": "#%%\n"
    }
   },
   "outputs": [
    {
     "name": "stdout",
     "output_type": "stream",
     "text": [
      "Train Epoch: 1 [0/60000 (0%)]\tLoss: 2.301776\n",
      "Train Epoch: 1 [12800/60000 (21%)]\tLoss: 0.648249\n",
      "Train Epoch: 1 [25600/60000 (43%)]\tLoss: 0.488134\n",
      "Train Epoch: 1 [38400/60000 (64%)]\tLoss: 0.378205\n",
      "Train Epoch: 1 [51200/60000 (85%)]\tLoss: 0.103810\n",
      "\n",
      "Validation set: Average loss: 0.2287, Accuracy: 9281/10000 (93%)\n",
      "\n",
      "Train Epoch: 2 [0/60000 (0%)]\tLoss: 0.123725\n",
      "Train Epoch: 2 [12800/60000 (21%)]\tLoss: 0.368346\n",
      "Train Epoch: 2 [25600/60000 (43%)]\tLoss: 0.103864\n",
      "Train Epoch: 2 [38400/60000 (64%)]\tLoss: 0.168832\n",
      "Train Epoch: 2 [51200/60000 (85%)]\tLoss: 0.186994\n",
      "\n",
      "Validation set: Average loss: 0.1225, Accuracy: 9618/10000 (96%)\n",
      "\n",
      "Train Epoch: 3 [0/60000 (0%)]\tLoss: 0.351078\n",
      "Train Epoch: 3 [12800/60000 (21%)]\tLoss: 0.179334\n",
      "Train Epoch: 3 [25600/60000 (43%)]\tLoss: 0.190591\n",
      "Train Epoch: 3 [38400/60000 (64%)]\tLoss: 0.094755\n",
      "Train Epoch: 3 [51200/60000 (85%)]\tLoss: 0.290133\n",
      "\n",
      "Validation set: Average loss: 0.1059, Accuracy: 9666/10000 (97%)\n",
      "\n",
      "Train Epoch: 4 [0/60000 (0%)]\tLoss: 0.323347\n",
      "Train Epoch: 4 [12800/60000 (21%)]\tLoss: 0.233206\n",
      "Train Epoch: 4 [25600/60000 (43%)]\tLoss: 0.050590\n",
      "Train Epoch: 4 [38400/60000 (64%)]\tLoss: 0.152736\n",
      "Train Epoch: 4 [51200/60000 (85%)]\tLoss: 0.063059\n",
      "\n",
      "Validation set: Average loss: 0.0912, Accuracy: 9721/10000 (97%)\n",
      "\n",
      "Train Epoch: 5 [0/60000 (0%)]\tLoss: 0.131734\n",
      "Train Epoch: 5 [12800/60000 (21%)]\tLoss: 0.038007\n",
      "Train Epoch: 5 [25600/60000 (43%)]\tLoss: 0.108106\n",
      "Train Epoch: 5 [38400/60000 (64%)]\tLoss: 0.018464\n",
      "Train Epoch: 5 [51200/60000 (85%)]\tLoss: 0.039325\n",
      "\n",
      "Validation set: Average loss: 0.0809, Accuracy: 9757/10000 (98%)\n",
      "\n",
      "Train Epoch: 6 [0/60000 (0%)]\tLoss: 0.075776\n",
      "Train Epoch: 6 [12800/60000 (21%)]\tLoss: 0.007306\n",
      "Train Epoch: 6 [25600/60000 (43%)]\tLoss: 0.047951\n",
      "Train Epoch: 6 [38400/60000 (64%)]\tLoss: 0.024165\n",
      "Train Epoch: 6 [51200/60000 (85%)]\tLoss: 0.060001\n",
      "\n",
      "Validation set: Average loss: 0.0754, Accuracy: 9764/10000 (98%)\n",
      "\n",
      "Train Epoch: 7 [0/60000 (0%)]\tLoss: 0.061040\n",
      "Train Epoch: 7 [12800/60000 (21%)]\tLoss: 0.122265\n",
      "Train Epoch: 7 [25600/60000 (43%)]\tLoss: 0.054644\n",
      "Train Epoch: 7 [38400/60000 (64%)]\tLoss: 0.077891\n",
      "Train Epoch: 7 [51200/60000 (85%)]\tLoss: 0.088748\n",
      "\n",
      "Validation set: Average loss: 0.0767, Accuracy: 9773/10000 (98%)\n",
      "\n",
      "Train Epoch: 8 [0/60000 (0%)]\tLoss: 0.088016\n",
      "Train Epoch: 8 [12800/60000 (21%)]\tLoss: 0.088324\n",
      "Train Epoch: 8 [25600/60000 (43%)]\tLoss: 0.049856\n",
      "Train Epoch: 8 [38400/60000 (64%)]\tLoss: 0.038525\n",
      "Train Epoch: 8 [51200/60000 (85%)]\tLoss: 0.057549\n",
      "\n",
      "Validation set: Average loss: 0.0699, Accuracy: 9794/10000 (98%)\n",
      "\n",
      "Train Epoch: 9 [0/60000 (0%)]\tLoss: 0.024175\n",
      "Train Epoch: 9 [12800/60000 (21%)]\tLoss: 0.023017\n",
      "Train Epoch: 9 [25600/60000 (43%)]\tLoss: 0.066663\n",
      "Train Epoch: 9 [38400/60000 (64%)]\tLoss: 0.048445\n",
      "Train Epoch: 9 [51200/60000 (85%)]\tLoss: 0.008514\n",
      "\n",
      "Validation set: Average loss: 0.0661, Accuracy: 9795/10000 (98%)\n",
      "\n",
      "Train Epoch: 10 [0/60000 (0%)]\tLoss: 0.026949\n",
      "Train Epoch: 10 [12800/60000 (21%)]\tLoss: 0.012998\n",
      "Train Epoch: 10 [25600/60000 (43%)]\tLoss: 0.009869\n",
      "Train Epoch: 10 [38400/60000 (64%)]\tLoss: 0.062142\n",
      "Train Epoch: 10 [51200/60000 (85%)]\tLoss: 0.018723\n",
      "\n",
      "Validation set: Average loss: 0.0653, Accuracy: 9823/10000 (98%)\n",
      "\n",
      "Wall time: 1min 45s\n"
     ]
    }
   ],
   "source": [
    "%%time\n",
    "epochs = 10\n",
    "\n",
    "lossv, accv = [], []\n",
    "for epoch in range(1, epochs + 1):\n",
    "    my_train(epoch, my_model, my_optimizer, my_criterion, train_loader, 400)\n",
    "    my_validate(lossv, accv, my_model, my_criterion, validation_loader)"
   ]
  },
  {
   "cell_type": "code",
   "execution_count": 21,
   "metadata": {
    "pycharm": {
     "name": "#%%\n"
    }
   },
   "outputs": [
    {
     "data": {
      "text/plain": [
       "Text(0.5, 1.0, 'validation accuracy')"
      ]
     },
     "execution_count": 21,
     "metadata": {},
     "output_type": "execute_result"
    },
    {
     "data": {
      "image/png": "[encoded data removed]",
      "text/plain": [
       "<Figure size 1000x300 with 2 Axes>"
      ]
     },
     "metadata": {},
     "output_type": "display_data"
    }
   ],
   "source": [
    "plt.figure(figsize=(10,3))\n",
    "\n",
    "plt.subplot(1, 2, 1)\n",
    "plt.plot(np.arange(1,epochs+1), lossv)\n",
    "plt.title('validation loss')\n",
    "\n",
    "plt.subplot(1, 2, 2)\n",
    "plt.plot(np.arange(1,epochs+1), accv)\n",
    "plt.title('validation accuracy')"
   ]
  },
  {
   "cell_type": "code",
   "execution_count": 24,
   "metadata": {},
   "outputs": [
    {
     "name": "stdout",
     "output_type": "stream",
     "text": [
      "177\n"
     ]
    },
    {
     "data": {
      "image/png": "[encoded data removed]",
      "text/plain": [
       "<Figure size 1000x200 with 20 Axes>"
      ]
     },
     "metadata": {},
     "output_type": "display_data"
    }
   ],
   "source": [
    "# 看下在validation set错误的图像\n",
    "my_model.eval()\n",
    "wrong_images = []\n",
    "wrong_label = []\n",
    "correct_label = []\n",
    "for data, target in validation_loader:\n",
    "    data = data.to(device)\n",
    "    target = target.to(device)\n",
    "    output = my_model(data)\n",
    "    # 获取模型的预测\n",
    "    _, predicted = torch.max(output.data, 1)\n",
    "    \n",
    "    # 找出错误的预测\n",
    "    wrong_preds = (predicted != target)\n",
    "    \n",
    "    # 获取错误预测的索引\n",
    "    wrong_indices = torch.where(wrong_preds)[0]\n",
    "    \n",
    "    # 保存错误的预测和对应的图像\n",
    "    for i in wrong_indices:\n",
    "        wrong_images.append(data[i])\n",
    "        wrong_label.append(predicted[i])\n",
    "        correct_label.append(target[i])\n",
    "\n",
    "print(len(wrong_images))\n",
    "pltsize=1\n",
    "plt.figure(figsize=(10*pltsize, 2*pltsize))\n",
    "for i in range(20):\n",
    "    plt.subplot(2, 10, i+1)  # 修改为2行10列的子图\n",
    "    plt.axis('off')\n",
    "    plt.imshow(wrong_images[i].cpu().numpy().reshape(28,28), cmap=\"gray_r\")\n",
    "    plt.title('P:'+str(wrong_label[i].item())+' T:'+str(correct_label[i].item()))\n"
   ]
  },
  {
   "cell_type": "markdown",
   "metadata": {
    "pycharm": {
     "name": "#%% md\n"
    }
   },
   "source": [
    "## MLP_Mixer"
   ]
  },
  {
   "cell_type": "code",
   "execution_count": 8,
   "metadata": {
    "pycharm": {
     "name": "#%%\n"
    }
   },
   "outputs": [],
   "source": [
    "from mlp_mixer import MLPMixer\n",
    "\n",
    "mix_model = MLPMixer(in_channels=1, image_size=28, patch_size=4, num_classes=10,\n",
    "                        dim=64, depth=4, token_dim=64, channel_dim=128, dropout=0.2).to(device)\n",
    "my_optimizer = torch.optim.SGD(mix_model.parameters(), lr=0.03, momentum=0.6)\n",
    "my_criterion = nn.CrossEntropyLoss()  # 使用交叉熵损失函数"
   ]
  },
  {
   "cell_type": "code",
   "execution_count": null,
   "metadata": {},
   "outputs": [],
   "source": [
    "print(mix_model)"
   ]
  },
  {
   "cell_type": "code",
   "execution_count": 9,
   "metadata": {
    "pycharm": {
     "name": "#%%\n"
    }
   },
   "outputs": [
    {
     "name": "stdout",
     "output_type": "stream",
     "text": [
      "Train Epoch: 1 [0/60000 (0%)]\tLoss: 2.256877\n",
      "Train Epoch: 1 [12800/60000 (21%)]\tLoss: 0.654261\n",
      "Train Epoch: 1 [25600/60000 (43%)]\tLoss: 0.341455\n",
      "Train Epoch: 1 [38400/60000 (64%)]\tLoss: 0.297226\n",
      "Train Epoch: 1 [51200/60000 (85%)]\tLoss: 0.468973\n",
      "\n",
      "Validation set: Average loss: 0.1567, Accuracy: 9514/10000 (95%)\n",
      "\n",
      "Train Epoch: 2 [0/60000 (0%)]\tLoss: 0.350879\n",
      "Train Epoch: 2 [12800/60000 (21%)]\tLoss: 0.183276\n",
      "Train Epoch: 2 [25600/60000 (43%)]\tLoss: 0.193616\n",
      "Train Epoch: 2 [38400/60000 (64%)]\tLoss: 0.248457\n",
      "Train Epoch: 2 [51200/60000 (85%)]\tLoss: 0.138643\n",
      "\n",
      "Validation set: Average loss: 0.1184, Accuracy: 9639/10000 (96%)\n",
      "\n",
      "Train Epoch: 3 [0/60000 (0%)]\tLoss: 0.195972\n",
      "Train Epoch: 3 [12800/60000 (21%)]\tLoss: 0.232455\n",
      "Train Epoch: 3 [25600/60000 (43%)]\tLoss: 0.372331\n",
      "Train Epoch: 3 [38400/60000 (64%)]\tLoss: 0.088693\n",
      "Train Epoch: 3 [51200/60000 (85%)]\tLoss: 0.032481\n",
      "\n",
      "Validation set: Average loss: 0.0978, Accuracy: 9719/10000 (97%)\n",
      "\n",
      "Train Epoch: 4 [0/60000 (0%)]\tLoss: 0.047593\n",
      "Train Epoch: 4 [12800/60000 (21%)]\tLoss: 0.166149\n",
      "Train Epoch: 4 [25600/60000 (43%)]\tLoss: 0.305619\n",
      "Train Epoch: 4 [38400/60000 (64%)]\tLoss: 0.201588\n",
      "Train Epoch: 4 [51200/60000 (85%)]\tLoss: 0.133655\n",
      "\n",
      "Validation set: Average loss: 0.1024, Accuracy: 9687/10000 (97%)\n",
      "\n",
      "Train Epoch: 5 [0/60000 (0%)]\tLoss: 0.043141\n",
      "Train Epoch: 5 [12800/60000 (21%)]\tLoss: 0.174597\n",
      "Train Epoch: 5 [25600/60000 (43%)]\tLoss: 0.236410\n",
      "Train Epoch: 5 [38400/60000 (64%)]\tLoss: 0.039218\n",
      "Train Epoch: 5 [51200/60000 (85%)]\tLoss: 0.166055\n",
      "\n",
      "Validation set: Average loss: 0.0851, Accuracy: 9760/10000 (98%)\n",
      "\n",
      "Train Epoch: 6 [0/60000 (0%)]\tLoss: 0.012712\n",
      "Train Epoch: 6 [12800/60000 (21%)]\tLoss: 0.147386\n",
      "Train Epoch: 6 [25600/60000 (43%)]\tLoss: 0.036928\n",
      "Train Epoch: 6 [38400/60000 (64%)]\tLoss: 0.073603\n",
      "Train Epoch: 6 [51200/60000 (85%)]\tLoss: 0.019404\n",
      "\n",
      "Validation set: Average loss: 0.0807, Accuracy: 9759/10000 (98%)\n",
      "\n",
      "Train Epoch: 7 [0/60000 (0%)]\tLoss: 0.068139\n",
      "Train Epoch: 7 [12800/60000 (21%)]\tLoss: 0.156018\n",
      "Train Epoch: 7 [25600/60000 (43%)]\tLoss: 0.017037\n",
      "Train Epoch: 7 [38400/60000 (64%)]\tLoss: 0.036397\n",
      "Train Epoch: 7 [51200/60000 (85%)]\tLoss: 0.104652\n",
      "\n",
      "Validation set: Average loss: 0.0766, Accuracy: 9765/10000 (98%)\n",
      "\n",
      "Train Epoch: 8 [0/60000 (0%)]\tLoss: 0.036310\n",
      "Train Epoch: 8 [12800/60000 (21%)]\tLoss: 0.013685\n",
      "Train Epoch: 8 [25600/60000 (43%)]\tLoss: 0.035329\n",
      "Train Epoch: 8 [38400/60000 (64%)]\tLoss: 0.157232\n",
      "Train Epoch: 8 [51200/60000 (85%)]\tLoss: 0.058350\n",
      "\n",
      "Validation set: Average loss: 0.0805, Accuracy: 9769/10000 (98%)\n",
      "\n",
      "Train Epoch: 9 [0/60000 (0%)]\tLoss: 0.036026\n",
      "Train Epoch: 9 [12800/60000 (21%)]\tLoss: 0.090325\n",
      "Train Epoch: 9 [25600/60000 (43%)]\tLoss: 0.024813\n",
      "Train Epoch: 9 [38400/60000 (64%)]\tLoss: 0.018161\n",
      "Train Epoch: 9 [51200/60000 (85%)]\tLoss: 0.007365\n",
      "\n",
      "Validation set: Average loss: 0.0733, Accuracy: 9778/10000 (98%)\n",
      "\n",
      "Train Epoch: 10 [0/60000 (0%)]\tLoss: 0.059002\n",
      "Train Epoch: 10 [12800/60000 (21%)]\tLoss: 0.002748\n",
      "Train Epoch: 10 [25600/60000 (43%)]\tLoss: 0.035933\n",
      "Train Epoch: 10 [38400/60000 (64%)]\tLoss: 0.120868\n",
      "Train Epoch: 10 [51200/60000 (85%)]\tLoss: 0.070926\n",
      "\n",
      "Validation set: Average loss: 0.0718, Accuracy: 9777/10000 (98%)\n",
      "\n",
      "Wall time: 5min 27s\n"
     ]
    }
   ],
   "source": [
    "%%time\n",
    "epochs = 10\n",
    "\n",
    "lossv, accv = [], []\n",
    "for epoch in range(1, epochs + 1):\n",
    "    my_train(epoch, mix_model, my_optimizer, my_criterion, train_loader, 400)\n",
    "    my_validate(lossv, accv, mix_model, my_criterion, validation_loader)"
   ]
  }
 ],
 "metadata": {
  "kernelspec": {
   "display_name": "d2l",
   "language": "python",
   "name": "python3"
  },
  "language_info": {
   "codemirror_mode": {
    "name": "ipython",
    "version": 3
   },
   "file_extension": ".py",
   "mimetype": "text/x-python",
   "name": "python",
   "nbconvert_exporter": "python",
   "pygments_lexer": "ipython3",
   "version": "3.7.4"
  }
 },
 "nbformat": 4,
 "nbformat_minor": 4
}
